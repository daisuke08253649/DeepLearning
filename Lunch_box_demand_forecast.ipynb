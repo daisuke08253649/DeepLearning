{
  "nbformat": 4,
  "nbformat_minor": 0,
  "metadata": {
    "colab": {
      "provenance": [],
      "mount_file_id": "1B4jaDSuU4cNZ4A9Tnbe6Wdmm6wjP-OHJ",
      "authorship_tag": "ABX9TyM9iR3aMLgLawKRhpdUkEz/",
      "include_colab_link": true
    },
    "kernelspec": {
      "name": "python3",
      "display_name": "Python 3"
    },
    "language_info": {
      "name": "python"
    }
  },
  "cells": [
    {
      "cell_type": "markdown",
      "metadata": {
        "id": "view-in-github",
        "colab_type": "text"
      },
      "source": [
        "<a href=\"https://colab.research.google.com/github/daisuke08253649/DeepLearning/blob/main/Lunch_box_demand_forecast.ipynb\" target=\"_parent\"><img src=\"https://colab.research.google.com/assets/colab-badge.svg\" alt=\"Open In Colab\"/></a>"
      ]
    },
    {
      "cell_type": "code",
      "execution_count": null,
      "metadata": {
        "id": "BdDYm0I0I9bt"
      },
      "outputs": [],
      "source": [
        "import pandas as pd\n",
        "import numpy as np\n",
        "import matplotlib.pyplot as plt\n",
        "import seaborn as sns\n",
        "\n",
        "train_df = pd.read_csv('./drive/MyDrive/DeepLearning/SIGNATE/Lunch_box_demand_forecast/train_3.csv')\n",
        "print(train_df.info())\n",
        "print(train_df.describe())\n",
        "print(train_df.isnull().sum())"
      ]
    },
    {
      "cell_type": "code",
      "source": [
        "train_df['y'].plot.hist(title='sales of box lunch')\n",
        "plt.xlabel('time step')\n",
        "plt.ylabel('sales')\n",
        "\n",
        "plt.axvline(x=train_df['y'].mean(), color='red')\n",
        "plt.show()"
      ],
      "metadata": {
        "id": "IqerEiZ7Jft0"
      },
      "execution_count": null,
      "outputs": []
    },
    {
      "cell_type": "code",
      "source": [
        "train_df.plot.scatter(x='temperature', y='y', c='blue', title='scatter plot of temperature and sales')\n",
        "\n",
        "plt.xlabel('temperature')\n",
        "plt.ylabel('sales')\n",
        "plt.show()"
      ],
      "metadata": {
        "id": "TD-s3fZvLVMM"
      },
      "execution_count": null,
      "outputs": []
    },
    {
      "cell_type": "code",
      "source": [
        "train_df.plot.scatter(x='kcal', y='y', c='blue', title='scatter plot of kcal and sales')\n",
        "\n",
        "plt.xlabel('kcal')\n",
        "plt.ylabel('sales')\n",
        "plt.show()"
      ],
      "metadata": {
        "id": "l6ebuuSNMGJe"
      },
      "execution_count": null,
      "outputs": []
    },
    {
      "cell_type": "code",
      "source": [
        "print(train_df[['y', 'temperature', 'kcal']].corr())"
      ],
      "metadata": {
        "id": "vUJ4ggg_Mbg_"
      },
      "execution_count": null,
      "outputs": []
    },
    {
      "cell_type": "code",
      "source": [
        "sns.boxplot(x='week', y='y', data=train_df, order = ['月', '火', '水', '木', '金'])\n",
        "\n",
        "plt.title('sales of each week')\n",
        "plt.ylabel('sales')\n",
        "plt.show()"
      ],
      "metadata": {
        "id": "oH21Cvx-Mq2Z"
      },
      "execution_count": null,
      "outputs": []
    },
    {
      "cell_type": "code",
      "source": [
        "plt.figure(figsize=(10,6))\n",
        "sns.lineplot(x=train_df.index, y=train_df.y, hue=train_df.week, data=train_df)\n",
        "\n",
        "plt.xlabel('time step')\n",
        "plt.ylabel('sales')\n",
        "plt.title('sales of box lunch')\n",
        "plt.show()"
      ],
      "metadata": {
        "id": "MXOsfEVZNUOG"
      },
      "execution_count": null,
      "outputs": []
    },
    {
      "cell_type": "code",
      "source": [
        "train_df['remarks'].fillna('特記なし', inplace=True)\n",
        "train_df['event'].fillna('イベントなし', inplace=True)\n",
        "train_df['payday'].fillna('0', inplace=True)"
      ],
      "metadata": {
        "id": "UFrZnWWsN-GE"
      },
      "execution_count": null,
      "outputs": []
    },
    {
      "cell_type": "code",
      "source": [
        "sns.boxplot(x='remarks', y='y', data=train_df)\n",
        "\n",
        "plt.title('sales of each remarks content')\n",
        "plt.xlabel('sales')\n",
        "plt.show()"
      ],
      "metadata": {
        "id": "P-ETHph3P51t"
      },
      "execution_count": null,
      "outputs": []
    },
    {
      "cell_type": "code",
      "source": [
        "sns.boxplot(x='event', y='y', data=train_df)\n",
        "\n",
        "plt.title('sales of each event')\n",
        "plt.xlabel('sales')\n",
        "plt.show()"
      ],
      "metadata": {
        "id": "ueD5gkWzQgG7"
      },
      "execution_count": null,
      "outputs": []
    },
    {
      "cell_type": "code",
      "source": [
        "sns.boxplot(x='payday', y='y', data=train_df)\n",
        "\n",
        "plt.title('sales of payday or not')\n",
        "plt.xlabel('payday')\n",
        "plt.show()"
      ],
      "metadata": {
        "id": "MPrhwLlZQ1hz"
      },
      "execution_count": null,
      "outputs": []
    },
    {
      "cell_type": "code",
      "source": [
        "sns.boxplot(x='weather', y='y', data=train_df)\n",
        "\n",
        "plt.title('sales of each wather category')\n",
        "plt.xlabel('sales')\n",
        "plt.show()"
      ],
      "metadata": {
        "id": "ye8GbHdiVysN"
      },
      "execution_count": null,
      "outputs": []
    },
    {
      "cell_type": "code",
      "source": [
        "#train_df['flag'] = 1\n",
        "#test_df['flag'] = 0\n",
        "\n",
        "#data = pd.concat([train_df, test_df])\n",
        "\n",
        "#data = data.reset_index(drop=True)\n",
        "#print(data.head())"
      ],
      "metadata": {
        "id": "4iin69hrDKxZ"
      },
      "execution_count": null,
      "outputs": []
    },
    {
      "cell_type": "code",
      "source": [
        "train_df['weather'] = train_df['weather'].apply(lambda x: '雨' if x == '雪' or x == '雷電' else x)\n",
        "train_df['remarks'] = train_df.apply(lambda x: 1 if x['remarks'] == 'お楽しみメニュー' and 'カレー' in x['name'] else 0, axis=1)"
      ],
      "metadata": {
        "id": "MUzwTifPYKsZ"
      },
      "execution_count": null,
      "outputs": []
    },
    {
      "cell_type": "code",
      "source": [
        "train_df['year'] = train_df['datetime'].apply(lambda x: x.split('-')[0])\n",
        "train_df['month'] = train_df['datetime'].apply(lambda x: x.split('-')[1])\n",
        "\n",
        "train_df['year'] = train_df['year'].astype(int)\n",
        "train_df['month'] = train_df['month'].astype(int)"
      ],
      "metadata": {
        "id": "2bj2wF2zZDG3"
      },
      "execution_count": null,
      "outputs": []
    },
    {
      "cell_type": "code",
      "source": [
        "data = train_df.drop(columns = ['datetime', 'week', 'soldout', 'name', 'kcal', 'event', 'payday', 'precipitation', 'year'])\n",
        "print(data.head())"
      ],
      "metadata": {
        "id": "50qpXHmdcUgJ"
      },
      "execution_count": null,
      "outputs": []
    },
    {
      "cell_type": "code",
      "source": [
        "data = pd.get_dummies(data)\n",
        "print(data.head(10))"
      ],
      "metadata": {
        "id": "EDFfhT6Sc2J7"
      },
      "execution_count": null,
      "outputs": []
    },
    {
      "cell_type": "code",
      "source": [
        "x_data = data.drop(columns=['y'])\n",
        "print(x_data.head())\n",
        "\n",
        "y_data = data['y']\n",
        "print(y_data.head())"
      ],
      "metadata": {
        "id": "-ntTaz00jJF3"
      },
      "execution_count": null,
      "outputs": []
    },
    {
      "cell_type": "code",
      "source": [
        "from sklearn.model_selection import train_test_split\n",
        "from sklearn.linear_model import LinearRegression\n",
        "from sklearn.metrics import mean_squared_error\n",
        "\n",
        "\n",
        "train_X, test_X, train_y, test_y = train_test_split(x_data, y_data)\n",
        "print(train_X.shape)\n",
        "print(test_X.shape)\n",
        "\n",
        "lm = LinearRegression()\n",
        "\n",
        "def RMSE(var1, var2):\n",
        "    mse = mean_squared_error(var1, var2)\n",
        "    return np.sqrt(mse)"
      ],
      "metadata": {
        "id": "sQwt1doodGY9"
      },
      "execution_count": null,
      "outputs": []
    },
    {
      "cell_type": "code",
      "source": [
        "features = ['remarks', 'temperature', 'weather_快晴', 'weather_晴れ', 'weather_曇', 'weather_雨']\n",
        "\n",
        "#train = data[data['flag'] == 1]\n",
        "#test = data[data['flag'] == 0]\n",
        "\n",
        "train_X = train_X[features]\n",
        "test_X = test_X[features]\n",
        "\n",
        "print(train_X.shape)\n",
        "print(test_X.shape)\n",
        "\n",
        "print(train_y.shape)\n",
        "print(test_y.shape)"
      ],
      "metadata": {
        "id": "dA3HGtIIo7Fm"
      },
      "execution_count": null,
      "outputs": []
    },
    {
      "cell_type": "code",
      "source": [
        "lm.fit(train_X, train_y)\n",
        "print(pd.DataFrame(lm.coef_, index=features, columns=['回帰係数']))\n",
        "\n",
        "pred1 = lm.predict(test_X)\n",
        "var = RMSE(test_y, pred1)\n",
        "print(var)\n",
        "print(pred1)"
      ],
      "metadata": {
        "id": "4GUASqC6pkGF"
      },
      "execution_count": null,
      "outputs": []
    },
    {
      "cell_type": "code",
      "source": [
        "plt.plot(test_y.values, label='actual')\n",
        "plt.plot(pred1, label='forecast')\n",
        "\n",
        "plt.title('sales of box lunch')\n",
        "plt.xlabel('time step')\n",
        "plt.ylabel('sales')\n",
        "plt.legend()\n",
        "plt.show()"
      ],
      "metadata": {
        "id": "U-9T5FDrqhGi"
      },
      "execution_count": null,
      "outputs": []
    },
    {
      "cell_type": "code",
      "source": [
        "test_df = pd.read_csv('./drive/MyDrive/DeepLearning/SIGNATE/Lunch_box_demand_forecast/test_2.csv')\n",
        "print(len(test_df))\n",
        "print(test_df.info())\n",
        "print(test_df.describe())\n",
        "print(test_df.isnull().sum())"
      ],
      "metadata": {
        "id": "rrdt9tZEm8U5"
      },
      "execution_count": null,
      "outputs": []
    },
    {
      "cell_type": "code",
      "source": [
        "test_df['weather'] = test_df['weather'].apply(lambda x: '雨' if x == '雪' or x == '雷電' else x)\n",
        "test_df['weather'] = test_df['weather'].apply(lambda x: '曇' if x == '薄曇' else x)\n",
        "test_df['remarks'] = test_df.apply(lambda x: 1 if x['remarks'] == 'お楽しみメニュー' and 'カレー' in x['name'] else 0, axis=1)\n",
        "\n",
        "test_df['year'] = test_df['datetime'].apply(lambda x: x.split('-')[0])\n",
        "test_df['month'] = test_df['datetime'].apply(lambda x: x.split('-')[1])\n",
        "\n",
        "test_df['year'] = test_df['year'].astype(int)\n",
        "test_df['month'] = test_df['month'].astype(int)"
      ],
      "metadata": {
        "id": "6mK-06yHoZ6X"
      },
      "execution_count": null,
      "outputs": []
    },
    {
      "cell_type": "code",
      "source": [
        "test_data = test_df.drop(columns = ['datetime', 'week', 'soldout', 'name', 'kcal', 'event', 'payday', 'precipitation', 'year', 'month'])\n",
        "print(test_data)"
      ],
      "metadata": {
        "id": "mBTX5L-iG2_m"
      },
      "execution_count": null,
      "outputs": []
    },
    {
      "cell_type": "code",
      "source": [
        "test_data = pd.get_dummies(test_data)\n",
        "print(test_data.head(10))"
      ],
      "metadata": {
        "id": "0XeuIumGHLxT"
      },
      "execution_count": null,
      "outputs": []
    },
    {
      "cell_type": "code",
      "source": [
        "sample = pd.read_csv('./drive/MyDrive/DeepLearning/SIGNATE/Lunch_box_demand_forecast/sample.csv')\n",
        "print(len(sample))"
      ],
      "metadata": {
        "id": "H6dpBMf6IY0H"
      },
      "execution_count": null,
      "outputs": []
    },
    {
      "cell_type": "code",
      "source": [
        "if len(test_df) > len(sample):\n",
        "    test_df.drop(test_df.index[-1], inplace=True)\n",
        "\n",
        "print(len(test_df))"
      ],
      "metadata": {
        "id": "MmD0QXeRPVFy"
      },
      "execution_count": null,
      "outputs": []
    },
    {
      "cell_type": "code",
      "source": [
        "test_pred = lm.predict(test_data)\n",
        "print(len(test_pred))"
      ],
      "metadata": {
        "id": "wjg__0LzHkIe"
      },
      "execution_count": null,
      "outputs": []
    },
    {
      "cell_type": "code",
      "source": [
        "sample.to_csv('./drive/MyDrive/DeepLearning/SIGNATE/Lunch_box_demand_forecast/sample.csv', index=False)"
      ],
      "metadata": {
        "id": "BpOuzzuWIxEw"
      },
      "execution_count": null,
      "outputs": []
    },
    {
      "cell_type": "code",
      "source": [],
      "metadata": {
        "id": "XY2vXNgSQyQU"
      },
      "execution_count": null,
      "outputs": []
    }
  ]
}