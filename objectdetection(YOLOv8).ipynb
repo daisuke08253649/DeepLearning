{
  "nbformat": 4,
  "nbformat_minor": 0,
  "metadata": {
    "colab": {
      "provenance": [],
      "machine_shape": "hm",
      "mount_file_id": "1OISNvmALJhlfUqUwjyMd1K_7jIyOzhGg",
      "authorship_tag": "ABX9TyNWd79VVjgnVDMAwgyR0tyU",
      "include_colab_link": true
    },
    "kernelspec": {
      "name": "python3",
      "display_name": "Python 3"
    },
    "language_info": {
      "name": "python"
    },
    "accelerator": "GPU",
    "gpuClass": "premium"
  },
  "cells": [
    {
      "cell_type": "markdown",
      "metadata": {
        "id": "view-in-github",
        "colab_type": "text"
      },
      "source": [
        "<a href=\"https://colab.research.google.com/github/daisuke14012719/DeepLearning/blob/main/objectdetection(YOLOv8).ipynb\" target=\"_parent\"><img src=\"https://colab.research.google.com/assets/colab-badge.svg\" alt=\"Open In Colab\"/></a>"
      ]
    },
    {
      "cell_type": "code",
      "source": [
        "!git clone https://github.com/ultralytics/ultralytics"
      ],
      "metadata": {
        "id": "6qJWPVyMbHdP"
      },
      "execution_count": null,
      "outputs": []
    },
    {
      "cell_type": "code",
      "source": [
        "%cd ultralytics"
      ],
      "metadata": {
        "id": "I54ayCGTHbwm"
      },
      "execution_count": null,
      "outputs": []
    },
    {
      "cell_type": "code",
      "source": [
        "!pip install -r requirements.txt"
      ],
      "metadata": {
        "id": "G1UrrfBq2u24"
      },
      "execution_count": null,
      "outputs": []
    },
    {
      "cell_type": "code",
      "source": [
        "#!python train.py --img 1280 --rect --batch 16 --epochs 100 --data /content/drive/MyDrive/DeepLearning/objectdetection/detection.yaml --weights yolov5m.pt --optimizer Adam\n",
        "from ultralytics import YOLO\n",
        "\n",
        "\n",
        "model = YOLO(\"yolov8m.pt\")\n",
        "\n",
        "results = model.train(data=\"/content/drive/MyDrive/DeepLearning/objectdetection/detection.yaml\", epochs=200, batch=25, imgsz=1280, rect=True, optimizer=\"Adam\", dropout=True, lr0=0.001, lrf=0.001, dnn=True, patience=0)\n",
        "results = model.val()"
      ],
      "metadata": {
        "id": "LwxEJuWUnvPs"
      },
      "execution_count": null,
      "outputs": []
    },
    {
      "cell_type": "code",
      "source": [
        "%load_ext tensorboard\n",
        "%tensorboard --logdir runs"
      ],
      "metadata": {
        "id": "er2uTIyDTkGn"
      },
      "execution_count": null,
      "outputs": []
    },
    {
      "cell_type": "code",
      "source": [
        "#!python detect.py --source /content/drive/MyDrive/DeepLearning/objectdetection/test --data /content/drive/MyDrive/DeepLearning/objectdetection/detection.yaml  --weights /content/yolov5/runs/train/exp/weights/best.pt --conf 0.25 --name trained_exp --exist-ok --save-conf --img 1280\n",
        "model = YOLO(\"/content/ultralytics/runs/detect/train/weights/best.pt\")\n",
        "results = model.predict(source=\"/content/drive/MyDrive/DeepLearning/objectdetection/test_video\", data=\"/content/drive/MyDrive/DeepLearning/objectdetection/detection.yaml\", save=True, imgsz=1280, rect=True)"
      ],
      "metadata": {
        "id": "JxSqyNCGTooj"
      },
      "execution_count": null,
      "outputs": []
    }
  ]
}