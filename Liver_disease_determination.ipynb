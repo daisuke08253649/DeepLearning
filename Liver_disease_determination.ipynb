{
  "nbformat": 4,
  "nbformat_minor": 0,
  "metadata": {
    "colab": {
      "provenance": [],
      "authorship_tag": "ABX9TyOxoyOidIEihXZ83STk5M8m",
      "include_colab_link": true
    },
    "kernelspec": {
      "name": "python3",
      "display_name": "Python 3"
    },
    "language_info": {
      "name": "python"
    }
  },
  "cells": [
    {
      "cell_type": "markdown",
      "metadata": {
        "id": "view-in-github",
        "colab_type": "text"
      },
      "source": [
        "<a href=\"https://colab.research.google.com/github/daisuke08253649/DeepLearning/blob/main/Liver_disease_determination.ipynb\" target=\"_parent\"><img src=\"https://colab.research.google.com/assets/colab-badge.svg\" alt=\"Open In Colab\"/></a>"
      ]
    },
    {
      "cell_type": "code",
      "source": [
        "from google.colab import drive\n",
        "drive.mount('/content/drive')"
      ],
      "metadata": {
        "colab": {
          "base_uri": "https://localhost:8080/"
        },
        "id": "crBz-hlFXKrm",
        "outputId": "196ceb17-6851-4bd6-eba0-f65bd214b9c5"
      },
      "execution_count": null,
      "outputs": [
        {
          "output_type": "stream",
          "name": "stdout",
          "text": [
            "Mounted at /content/drive\n"
          ]
        }
      ]
    },
    {
      "cell_type": "code",
      "source": [
        "import pandas as pd\n",
        "import numpy as np\n",
        "import matplotlib.pyplot as plt\n",
        "import seaborn as sns\n",
        "import math\n",
        "\n",
        "from sklearn.model_selection import train_test_split\n",
        "from sklearn.linear_model import LogisticRegression\n",
        "from sklearn.metrics import roc_auc_score, roc_curve\n",
        "\n",
        "from joblib import dump, load\n",
        "\n",
        "\n",
        "df = pd.read_csv('./drive/MyDrive/DeepLearning/SIGNATE/Liver_disease_determination/train_2.csv')\n",
        "df['AG_ratio'].fillna(df['Alb'] / (df['TP'] - df['Alb']), inplace=True)\n",
        "df.drop_duplicates(inplace=True)\n",
        "df.reset_index(drop=True, inplace=True)\n",
        "df['Gender'] = df['Gender'].apply(lambda x: 1 if x == 'Male' else 0)\n",
        "\n",
        "X = df.drop(['disease'], axis=1)\n",
        "y = df['disease']\n",
        "\n",
        "bins_T_Bil = [0, 0.5, 1.0, 100]\n",
        "X_cut, bin_indice = pd.cut(X['T_Bil'], bins=bins_T_Bil, retbins=True, labels=False)\n",
        "X_dummies = pd.get_dummies(X_cut, prefix=X_cut.name)\n",
        "X_binned = pd.concat([X, X_dummies], axis=1)\n",
        "\n",
        "X_train, X_test, y_train, y_test = train_test_split(X, y, test_size=0.3)\n",
        "\n",
        "lr = LogisticRegression()\n",
        "lr.fit(X_train, y_train)\n",
        "y_pred_prob = lr.predict_proba(X_test)[:, 1]\n",
        "\n",
        "auc_score = roc_auc_score(y_test, y_pred_prob)\n",
        "print(auc_score)\n",
        "\n",
        "fpr, tpr, thresholds = roc_curve(y_test, y_pred_prob)\n",
        "plt.plot(fpr, tpr, label='roc curve (area = %0.3f)' %auc_score)\n",
        "plt.plot([0, 1], [0, 1], linestyle=':', label='random')\n",
        "plt.plot([0, 0, 1], [0, 1, 1], linestyle=':', label='ideal')\n",
        "plt.legend()\n",
        "plt.xlabel('false positive rate')\n",
        "plt.ylabel('true positive rate')\n",
        "plt.show()\n",
        "\n",
        "dump(lr, './drive/MyDrive/DeepLearning/SIGNATE/Liver_disease_determination/model.joblib')"
      ],
      "metadata": {
        "id": "zyiBI1KnXnyJ"
      },
      "execution_count": null,
      "outputs": []
    },
    {
      "cell_type": "code",
      "source": [
        "model = load('./drive/MyDrive/DeepLearning/SIGNATE/Liver_disease_determination/model.joblib')\n",
        "\n",
        "# 提出用CSVをロード\n",
        "submit_df = pd.read_csv('./drive/MyDrive/DeepLearning/SIGNATE/Liver_disease_determination/sample_submit_2.csv')\n",
        "\n",
        "# テストデータセットをロードし、インデックスをリセット\n",
        "test_df = pd.read_csv('./drive/MyDrive/DeepLearning/SIGNATE/Liver_disease_determination/test_2.csv')\n",
        "test_df['Gender'] = test_df['Gender'].apply(lambda x: 1 if x == 'Male' else 0)\n",
        "\n",
        "# テストデータが提出用CSVよりも1行多い場合、最後の行を削除\n",
        "if len(test_df) > len(submit_df):\n",
        "    test_df.drop(test_df.index[-1], inplace=True)\n",
        "\n",
        "# 再度行数のアサーションチェック\n",
        "assert len(test_df) == len(submit_df), \"The number of test samples and submission samples should be the same\"\n",
        "\n",
        "# テストデータと提出用CSVの行数をチェック\n",
        "if len(test_df) != len(submit_df):\n",
        "    print(f\"Test data length: {len(test_df)}, Submission data length: {len(submit_df)}\")\n",
        "    raise ValueError(\"The number of test samples and submission samples should be the same\")\n",
        "\n",
        "# テストデータセットで予測を行い、提出用CSVに予測値を格納\n",
        "predict = model.predict(test_df)\n",
        "submit_df.iloc[:, 1] = predict\n",
        "\n",
        "# 最初の5行を表示して確認\n",
        "print(submit_df.head())\n",
        "\n",
        "# 別のファイル名で提出用CSVを保存\n",
        "submit_df.to_csv('./drive/MyDrive/DeepLearning/SIGNATE/Liver_disease_determination/sample_submit_2.csv', index=False)"
      ],
      "metadata": {
        "id": "VJvV0cIffRoG"
      },
      "execution_count": null,
      "outputs": []
    },
    {
      "cell_type": "code",
      "source": [],
      "metadata": {
        "id": "poXY33zzkoTs"
      },
      "execution_count": null,
      "outputs": []
    }
  ]
}