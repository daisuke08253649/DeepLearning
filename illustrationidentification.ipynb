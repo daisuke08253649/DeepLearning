{
  "cells": [
    {
      "cell_type": "markdown",
      "metadata": {
        "id": "view-in-github",
        "colab_type": "text"
      },
      "source": [
        "<a href=\"https://colab.research.google.com/github/daisuke08253649/DeepLearning/blob/main/illustrationidentification.ipynb\" target=\"_parent\"><img src=\"https://colab.research.google.com/assets/colab-badge.svg\" alt=\"Open In Colab\"/></a>"
      ]
    },
    {
      "cell_type": "code",
      "execution_count": null,
      "metadata": {
        "id": "zIjHuVooAEso",
        "collapsed": true
      },
      "outputs": [],
      "source": [
        "!pip install timm"
      ]
    },
    {
      "cell_type": "code",
      "execution_count": null,
      "metadata": {
        "id": "30n7GkkjoLC_",
        "collapsed": true
      },
      "outputs": [],
      "source": [
        "import timm\n",
        "model_list = timm.list_models(pretrained=True)\n",
        "print(model_list)"
      ]
    },
    {
      "cell_type": "code",
      "execution_count": null,
      "metadata": {
        "id": "w3cbDI4-cNAU"
      },
      "outputs": [],
      "source": [
        "import os\n",
        "import torch\n",
        "import torchvision\n",
        "import pandas as pd\n",
        "\n",
        "\n",
        "from torch import nn\n",
        "from PIL import Image\n",
        "from torch.utils.data import Dataset\n",
        "from torchvision.transforms import ToTensor\n",
        "from torch.utils.data import DataLoader\n",
        "import torchvision.transforms as transforms\n",
        "\n",
        "import matplotlib.pyplot as plt"
      ]
    },
    {
      "cell_type": "code",
      "execution_count": null,
      "metadata": {
        "id": "RIaOZbAYddP0"
      },
      "outputs": [],
      "source": [
        "#訓練データ\n",
        "train_img = '/content/drive/MyDrive/DeepLearning/illustrationdiscrimination/train_img'\n",
        "train_img_label = '/content/drive/MyDrive/DeepLearning/illustrationdiscrimination/train_img_label.csv'\n",
        "\n",
        "#テストデータ\n",
        "test_img = '/content/drive/MyDrive/DeepLearning/illustrationdiscrimination/test_img'\n",
        "test_img_label = '/content/drive/MyDrive/DeepLearning/illustrationdiscrimination/test_img_label.csv'"
      ]
    },
    {
      "cell_type": "code",
      "execution_count": null,
      "metadata": {
        "id": "En9cDY0yX2Q1"
      },
      "outputs": [],
      "source": [
        "class AIillustration(Dataset):\n",
        "    def __init__(self, img_label, img_dir, transform=None):\n",
        "        self.img_label = pd.read_csv(img_label)\n",
        "        self.img_dir = img_dir\n",
        "        self.transform = transform\n",
        "\n",
        "    def __len__(self):\n",
        "        return len(self.img_label)\n",
        "\n",
        "    def __getitem__(self, idx):\n",
        "        img_path = os.path.join(self.img_dir, self.img_label.iloc[idx, 0])\n",
        "        image = Image.open(img_path)\n",
        "        label = self.img_label.iloc[idx, 1]\n",
        "        if self.transform:\n",
        "            image = self.transform(image)\n",
        "\n",
        "        return image, label"
      ]
    },
    {
      "cell_type": "code",
      "execution_count": null,
      "metadata": {
        "id": "fs-FtoYR6aN8",
        "collapsed": true
      },
      "outputs": [],
      "source": [
        "train_transform = transforms.Compose([\n",
        "    transforms.Resize((224, 224)),\n",
        "    transforms.ToTensor()\n",
        "])\n",
        "\n",
        "test_transform = transforms.Compose([\n",
        "    transforms.Resize((224, 224)),\n",
        "    transforms.ToTensor()\n",
        "])\n",
        "\n",
        "train_dataset = AIillustration(train_img_label, train_img, train_transform)\n",
        "test_dataset = AIillustration(test_img_label, test_img, test_transform)\n",
        "\n",
        "train_dataloader = DataLoader(train_dataset, batch_size=100, shuffle=True)\n",
        "test_dataloader = DataLoader(test_dataset, batch_size=30, shuffle=True)\n",
        "\n",
        "print(len(train_dataset))\n",
        "print(len(test_dataset))"
      ]
    },
    {
      "cell_type": "code",
      "execution_count": null,
      "metadata": {
        "id": "b45_cFcYodrC",
        "collapsed": true
      },
      "outputs": [],
      "source": [
        "device='cuda:0'\n",
        "#'vit_base_patch16_224.mae'\n",
        "model = timm.create_model('vit_base_patch16_clip_224.openai_ft_in12k_in1k', pretrained=True, num_classes=2)\n",
        "model = model.to(device)\n",
        "\n",
        "lr = 1e-5\n",
        "epochs = 100\n",
        "criterion = nn.CrossEntropyLoss()\n",
        "optimizer = torch.optim.Adam(model.parameters(), lr=lr)\n",
        "\n",
        "train_loss_list = []\n",
        "test_loss_list = []\n",
        "accuracy_list = []\n",
        "count_epoch = 0"
      ]
    },
    {
      "cell_type": "code",
      "execution_count": null,
      "metadata": {
        "id": "sGFKNqbKBKjF",
        "collapsed": true
      },
      "outputs": [],
      "source": [
        "for epoch in range(epochs):\n",
        "    model.train()\n",
        "    total_train_loss = 0\n",
        "    for input, label in train_dataloader:\n",
        "        optimizer.zero_grad()\n",
        "        input = input.to(device)\n",
        "        label = label.to(device)\n",
        "        train_output = model(input)\n",
        "        train_loss = criterion(train_output, label)\n",
        "        train_loss.backward()\n",
        "        optimizer.step()\n",
        "        total_train_loss += train_loss.item()\n",
        "\n",
        "    with torch.no_grad():\n",
        "        model.eval()\n",
        "        test_label = 0\n",
        "        total_test_loss = 0\n",
        "        accuracy = 0\n",
        "        for input, label in test_dataloader:\n",
        "            input = input.to(device)\n",
        "            label = label.to(device)\n",
        "            test_output = model(input)\n",
        "            test_loss = criterion(test_output, label)\n",
        "            total_test_loss += test_loss.item()\n",
        "            _, predict = torch.max(test_output.data, 1)\n",
        "            test_label += label.size(0)\n",
        "            accuracy += (predict == label).sum()\n",
        "\n",
        "\n",
        "    train_loss_list.append(total_train_loss / len(train_dataset))\n",
        "    test_loss_list.append(total_test_loss / test_label)\n",
        "    accuracy_list.append(float(accuracy) / test_label)\n",
        "\n",
        "    train = train_loss/len(train_dataset)\n",
        "    test = test_loss/len(test_dataset)\n",
        "    acc = float(accuracy)/test_label\n",
        "\n",
        "\n",
        "    print(f'Epoch:{epoch + 1}, Train_loss:{train}, Test_loss:{test}, Accuracy:{acc}')\n",
        "\n",
        "\n",
        "count_epoch += 1"
      ]
    },
    {
      "cell_type": "code",
      "source": [
        "plt.figure()\n",
        "plt.plot(range(1, len(train_loss_list)+1), train_loss_list, label='train_loss')\n",
        "plt.plot(range(1, len(test_loss_list)+1), test_loss_list, label='test_loss')\n",
        "plt.xlabel('epoch')\n",
        "plt.legend()\n",
        "plt.show()"
      ],
      "metadata": {
        "id": "5u-HQAOO-Qmw",
        "collapsed": true
      },
      "execution_count": null,
      "outputs": []
    },
    {
      "cell_type": "code",
      "source": [
        "from torch.autograd import Variable\n",
        "\n",
        "test_iter = iter(test_dataloader)\n",
        "true_list = []\n",
        "false_list = []\n",
        "input, label = next(test_iter)\n",
        "output = model(Variable(input.cuda()))\n",
        "_, predict = torch.max(output.data, 1)\n",
        "\n",
        "for idx in range(len(label)):\n",
        "    lst = [input[idx], label[idx], predict[idx]]\n",
        "    if int(label[idx]) == int(predict[idx]):\n",
        "        true_list.append(lst)\n",
        "    else:\n",
        "        false_list.append(lst)\n",
        "\n",
        "print(f'予測が正解しているデータ:{len(true_list)}')\n",
        "for idx, tlst in enumerate(true_list[:5]):\n",
        "    plt.figure(idx+1)\n",
        "    image = tlst[0].cpu().numpy()\n",
        "    if image.ndim == 3 and image.shape[0] == 3:\n",
        "        image = image.transpose((1, 2, 0))\n",
        "    plt.imshow(image, cmap='Blues')\n",
        "    plt.title('True: {}, Estim: {}'.format(tlst[1], tlst[2]))"
      ],
      "metadata": {
        "id": "ccj0ybu3xwPD",
        "collapsed": true
      },
      "execution_count": null,
      "outputs": []
    },
    {
      "cell_type": "code",
      "source": [
        "print(f'予測が不正解のデータ:{len(false_list)}')\n",
        "for idx, flst in enumerate(false_list[:5]):\n",
        "    plt.figure(idx+1)\n",
        "    image = flst[0].cpu().numpy()\n",
        "    if image.ndim == 3 and image.shape[0] == 3:\n",
        "        image = image.transpose((1, 2, 0))\n",
        "    plt.imshow(image, cmap='Reds')\n",
        "    plt.title('True: {}, Estim: {}'.format(flst[1], flst[2]))"
      ],
      "metadata": {
        "id": "plbNbjCVyPqD",
        "collapsed": true
      },
      "execution_count": null,
      "outputs": []
    },
    {
      "cell_type": "code",
      "execution_count": null,
      "metadata": {
        "id": "4XwHgtS1KQpe"
      },
      "outputs": [],
      "source": [
        "#モデル保存\n",
        "torch.save(model, 'illustrationidentification_model.pth')"
      ]
    },
    {
      "cell_type": "code",
      "execution_count": null,
      "metadata": {
        "id": "-VCDk11raI4L"
      },
      "outputs": [],
      "source": [
        "#モデルロード\n",
        "model = torch.load('./保存されたモデルのパス')\n",
        "model.eval()"
      ]
    }
  ],
  "metadata": {
    "accelerator": "GPU",
    "colab": {
      "machine_shape": "hm",
      "provenance": [],
      "gpuType": "T4",
      "mount_file_id": "1_6hfBn9BeXOD0SoAS5-fnaQKaYktgbo-",
      "authorship_tag": "ABX9TyNVerM+wDrdU1Pg2ljTn+B/",
      "include_colab_link": true
    },
    "kernelspec": {
      "display_name": "Python 3",
      "name": "python3"
    },
    "language_info": {
      "name": "python"
    }
  },
  "nbformat": 4,
  "nbformat_minor": 0
}