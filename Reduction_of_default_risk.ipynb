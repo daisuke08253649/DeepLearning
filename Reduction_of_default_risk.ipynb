{
  "nbformat": 4,
  "nbformat_minor": 0,
  "metadata": {
    "colab": {
      "provenance": [],
      "mount_file_id": "16MbqOsl98qQgSAewl7Ahm0M70nuWWZBA",
      "authorship_tag": "ABX9TyOcx7/yo5tu7P6mMWH62eCN",
      "include_colab_link": true
    },
    "kernelspec": {
      "name": "python3",
      "display_name": "Python 3"
    },
    "language_info": {
      "name": "python"
    }
  },
  "cells": [
    {
      "cell_type": "markdown",
      "metadata": {
        "id": "view-in-github",
        "colab_type": "text"
      },
      "source": [
        "<a href=\"https://colab.research.google.com/github/daisuke08253649/DeepLearning/blob/main/Reduction_of_default_risk.ipynb\" target=\"_parent\"><img src=\"https://colab.research.google.com/assets/colab-badge.svg\" alt=\"Open In Colab\"/></a>"
      ]
    },
    {
      "cell_type": "code",
      "source": [
        "!pip install japanize_matplotlib"
      ],
      "metadata": {
        "id": "VRtrigAM5Hio"
      },
      "execution_count": null,
      "outputs": []
    },
    {
      "cell_type": "code",
      "source": [
        "import pandas as pd\n",
        "import numpy as np\n",
        "import matplotlib.pyplot as plt\n",
        "import japanize_matplotlib\n",
        "import seaborn as sns\n",
        "\n",
        "train_df = pd.read_csv('./drive/MyDrive/DeepLearning/SIGNATE/Reduction_of_default_risk/train3.csv')\n",
        "train_df = train_df.drop(columns=['id'])\n",
        "train_df = train_df.dropna()\n",
        "print(train_df.head())\n",
        "print(train_df.isnull().sum())\n",
        "print(train_df.info())"
      ],
      "metadata": {
        "id": "NcUl0AC3vmmh"
      },
      "execution_count": null,
      "outputs": []
    },
    {
      "cell_type": "code",
      "source": [
        "loan_amnt = train_df['loan_amnt']\n",
        "loan_amnt.plot.hist(title='loan_amnt')\n",
        "plt.show()"
      ],
      "metadata": {
        "id": "atqc8OAjOlOE"
      },
      "execution_count": null,
      "outputs": []
    },
    {
      "cell_type": "code",
      "source": [
        "interest_rate = train_df['interest_rate']\n",
        "interest_rate.plot.hist(title='interest_rate')\n",
        "plt.show()"
      ],
      "metadata": {
        "id": "QBzEMoTDP4DV"
      },
      "execution_count": null,
      "outputs": []
    },
    {
      "cell_type": "code",
      "source": [
        "employment_length_counts = train_df['employment_length'].value_counts()\n",
        "print(employment_length_counts)"
      ],
      "metadata": {
        "id": "T7-sByHQQVKB"
      },
      "execution_count": null,
      "outputs": []
    },
    {
      "cell_type": "code",
      "source": [
        "employment_length_counts.plot.bar(title='employment_length_counts')\n",
        "plt.xlabel('employment_length')\n",
        "plt.ylabel('count')\n",
        "plt.show()"
      ],
      "metadata": {
        "id": "evlCUgReQveH"
      },
      "execution_count": null,
      "outputs": []
    },
    {
      "cell_type": "code",
      "source": [
        "train_df['loan_status'].value_counts().plot.bar()\n",
        "plt.show()"
      ],
      "metadata": {
        "id": "mPMjUlIGRMLH"
      },
      "execution_count": null,
      "outputs": []
    },
    {
      "cell_type": "code",
      "source": [
        "sns.boxplot(x='loan_status', y='loan_amnt', data=train_df)\n",
        "plt.title('loan_status vs loan_amnt')\n",
        "plt.xlabel('loan_status')\n",
        "plt.ylabel('loan_amnt')\n",
        "plt.show()"
      ],
      "metadata": {
        "id": "46fiOyfNSHMC"
      },
      "execution_count": null,
      "outputs": []
    },
    {
      "cell_type": "code",
      "source": [
        "sns.boxplot(x='loan_status', y='interest_rate', data=train_df)\n",
        "plt.title('loan_status vs interest_rate')\n",
        "plt.xlabel('loan_status')\n",
        "plt.ylabel('interest_rate')\n",
        "plt.show()"
      ],
      "metadata": {
        "id": "-R3i35FeUn1Y"
      },
      "execution_count": null,
      "outputs": []
    },
    {
      "cell_type": "code",
      "source": [
        "sns.boxplot(x='loan_status', y='credit_score', data=train_df)\n",
        "plt.title('loan_status vs credit_score')\n",
        "plt.xlabel('loan_status')\n",
        "plt.ylabel('credit_score')\n",
        "plt.show()"
      ],
      "metadata": {
        "id": "5Z62DTcHVF58"
      },
      "execution_count": null,
      "outputs": []
    },
    {
      "cell_type": "code",
      "source": [
        "cross_term = pd.crosstab(train_df['term'], train_df['loan_status'], margins=True)\n",
        "c_rate = cross_term['ChargedOff'] / cross_term['All']\n",
        "f_rate = cross_term['FullyPaid'] / cross_term['All']\n",
        "cross_term['c_rate'] = c_rate\n",
        "cross_term['f_rate'] = f_rate\n",
        "cross_term = cross_term.drop(index='All')\n",
        "print(cross_term)\n",
        "\n",
        "df_bar = cross_term[['c_rate', 'f_rate']]\n",
        "df_bar.plot.bar(stacked=True)\n",
        "plt.title('返済期間ごとの貸し倒れ率と完済率')\n",
        "plt.xlabel('期間')\n",
        "plt.ylabel('割合')\n",
        "plt.show()"
      ],
      "metadata": {
        "id": "jDnQTFO7VZzK"
      },
      "execution_count": null,
      "outputs": []
    },
    {
      "cell_type": "code",
      "source": [
        "cross_el = pd.crosstab(train_df['employment_length'], train_df['loan_status'], margins=True)\n",
        "c_rate = cross_el['ChargedOff'] / cross_el['All']\n",
        "f_rate = cross_el['FullyPaid'] / cross_el['All']\n",
        "cross_el['c_rate'] = c_rate\n",
        "cross_el['f_rate'] = f_rate\n",
        "cross_el = cross_el.drop(index='All')\n",
        "print(cross_el)\n",
        "\n",
        "df_bar = cross_el[['c_rate', 'f_rate']]\n",
        "df_bar.plot.bar(stacked=True)\n",
        "plt.title('勤続年数ごとの貸し倒れ率と完済率')\n",
        "plt.xlabel('勤続年数')\n",
        "plt.ylabel('割合')\n",
        "plt.show()"
      ],
      "metadata": {
        "id": "2xRxbMzyZuxj"
      },
      "execution_count": null,
      "outputs": []
    },
    {
      "cell_type": "code",
      "source": [
        "cross_grade = pd.crosstab(train_df['grade'], train_df['loan_status'], margins=True)\n",
        "c_rate = cross_grade['ChargedOff'] / cross_grade['All']\n",
        "f_rate = cross_grade['FullyPaid'] / cross_grade['All']\n",
        "cross_grade['c_rate'] = c_rate\n",
        "cross_grade['f_rate'] = f_rate\n",
        "cross_grade = cross_grade.drop(index='All')\n",
        "print(cross_grade)\n",
        "\n",
        "df_bar = cross_grade[['c_rate', 'f_rate']]\n",
        "df_bar.plot.bar(stacked=True)\n",
        "plt.title('グレードごとの貸し倒れ率と完済率')\n",
        "plt.xlabel('グレード')\n",
        "plt.ylabel('割合')\n",
        "plt.show()"
      ],
      "metadata": {
        "id": "beZJR2I3e3ha"
      },
      "execution_count": null,
      "outputs": []
    },
    {
      "cell_type": "code",
      "source": [
        "cross_purpose = pd.crosstab(train_df['purpose'], train_df['loan_status'], margins=True)\n",
        "c_rate = cross_purpose['ChargedOff'] / cross_purpose['All']\n",
        "f_rate = cross_purpose['FullyPaid'] / cross_purpose['All']\n",
        "cross_purpose['c_rate'] = c_rate\n",
        "cross_purpose['f_rate'] = f_rate\n",
        "cross_purpose = cross_purpose.drop(index='All')\n",
        "print(cross_purpose)\n",
        "\n",
        "df_bar = cross_purpose[['c_rate', 'f_rate']]\n",
        "df_bar.plot.bar(stacked=True)\n",
        "plt.title('目的ごとの貸し倒れ率と完済率')\n",
        "plt.xlabel('目的')\n",
        "plt.ylabel('割合')\n",
        "plt.show()"
      ],
      "metadata": {
        "id": "ec7imtTj1X9_"
      },
      "execution_count": null,
      "outputs": []
    },
    {
      "cell_type": "code",
      "source": [
        "cross_at = pd.crosstab(train_df['application_type'], train_df['loan_status'], margins=True)\n",
        "c_rate = cross_at['ChargedOff'] / cross_at['All']\n",
        "f_rate = cross_at['FullyPaid'] / cross_at['All']\n",
        "cross_at['c_rate'] = c_rate\n",
        "cross_at['f_rate'] = f_rate\n",
        "cross_at = cross_at.drop(index='All')\n",
        "print(cross_at)\n",
        "\n",
        "df_bar = cross_at[['c_rate', 'f_rate']]\n",
        "df_bar.plot.bar(stacked=True)\n",
        "plt.title('目的ごとの貸し倒れ率と完済率')\n",
        "plt.xlabel('目的')\n",
        "plt.ylabel('割合')\n",
        "plt.show()"
      ],
      "metadata": {
        "id": "yZfPUoH83kU3"
      },
      "execution_count": null,
      "outputs": []
    },
    {
      "cell_type": "code",
      "source": [
        "x = train_df[['term', 'interest_rate', 'grade', 'purpose', 'credit_score', 'application_type']]\n",
        "label = train_df['loan_status']\n",
        "\n",
        "x_dum = pd.get_dummies(x)\n",
        "label_dum = pd.get_dummies(label)\n",
        "label_dum = label_dum.drop(columns='FullyPaid')\n",
        "print(x_dum.head())\n",
        "print(label_dum.head())"
      ],
      "metadata": {
        "id": "_KiL87cP4etl"
      },
      "execution_count": null,
      "outputs": []
    },
    {
      "cell_type": "code",
      "source": [
        "from sklearn.model_selection import train_test_split\n",
        "from sklearn.linear_model import LogisticRegression\n",
        "from sklearn.metrics import f1_score, confusion_matrix\n",
        "\n",
        "x_train, x_test, y_train, y_test = train_test_split(x_dum, label_dum, random_state=0, stratify=label_dum['ChargedOff'])\n",
        "\n",
        "model = LogisticRegression()\n",
        "model.fit(x_train, y_train)\n",
        "\n",
        "pred = model.predict(x_test)\n",
        "f_one = f1_score(y_test, pred)\n",
        "print(f_one)\n",
        "cm = confusion_matrix(y_test, pred)\n",
        "print(cm)"
      ],
      "metadata": {
        "id": "riawrPWH8XwY"
      },
      "execution_count": null,
      "outputs": []
    },
    {
      "cell_type": "code",
      "source": [
        "model2 = LogisticRegression()\n",
        "model2.fit(x_train, y_train)\n",
        "pred_proba = model2.predict_proba(x_test)\n",
        "proba_df = pd.DataFrame(pred_proba)\n",
        "#閾値の変更\n",
        "\n",
        "#「貸し倒れ」の数の合計を計算\n",
        "chargedoff_val = y_test['ChargedOff'].sum()\n",
        "#print(chargedoff_val)\n",
        "\n",
        "#proba_dfデータフレームの2列目の数値を降順（数値が大きい順）に並べ替える。\n",
        "proba_desc = proba_df[1].sort_values(ascending=False)\n",
        "#print(proba_desc)\n",
        "\n",
        "#proba_descからchargedoff_valで取得した数値と一致する行数を取得する。（proba_descのchargedoff_val番目の数値を取得）\n",
        "threshold = proba_desc.iloc[chargedoff_val]\n",
        "#print(threshold)\n",
        "\n",
        "def classification(x):\n",
        "    if x >= threshold:\n",
        "        return 1\n",
        "    else:\n",
        "        return 0\n",
        "\n",
        "proba_df['class_new'] = proba_df[1].apply(classification)\n",
        "#print(proba_df.head())\n",
        "\n",
        "f_one_2 = f1_score(y_test, proba_df['class_new'])\n",
        "print(f_one_2)\n",
        "cm2 = confusion_matrix(y_test, proba_df['class_new'])\n",
        "print(cm2)"
      ],
      "metadata": {
        "id": "GLjX-4FduFrs"
      },
      "execution_count": null,
      "outputs": []
    },
    {
      "cell_type": "code",
      "source": [
        "#ダウンサンプリング\n",
        "\n",
        "\n",
        "#print(x_train.shape)\n",
        "train = pd.concat([x_train, y_train], axis=1)\n",
        "#print(train.shape)\n",
        "\n",
        "fp = train[train['ChargedOff']==0]\n",
        "co = train[train['ChargedOff']==1]\n",
        "#print(co.shape[0])\n",
        "fp = fp.sample(n=co.shape[0], random_state=0)\n",
        "#print(fp.shape[0])\n",
        "\n",
        "train = pd.concat([fp, co])\n",
        "x_train = train.drop(columns='ChargedOff')\n",
        "#print(x_train.head())\n",
        "y_train = train['ChargedOff']\n",
        "#print(y_train.head())\n",
        "\n",
        "\n",
        "model3 = LogisticRegression()\n",
        "model3.fit(x_train, y_train)\n",
        "pred3 = model3.predict(x_test)\n",
        "print(pred3)\n",
        "f_one_3 = f1_score(y_test, pred3)\n",
        "print(f_one_3)\n",
        "cm3 = confusion_matrix(y_test, pred3)\n",
        "print(cm3)"
      ],
      "metadata": {
        "id": "c68quwhSElWr"
      },
      "execution_count": null,
      "outputs": []
    },
    {
      "cell_type": "code",
      "source": [
        "test_df = pd.read_csv('./drive/MyDrive/DeepLearning/SIGNATE/Reduction_of_default_risk/test2.csv')\n",
        "test_df = test_df.drop(columns=['id'])\n",
        "#test_df = test_df.dropna()\n",
        "print(test_df.head())\n",
        "print(test_df.isnull().sum())\n",
        "print(test_df.info())\n",
        "print(len(test_df))"
      ],
      "metadata": {
        "id": "t4Jfn3IXnn51"
      },
      "execution_count": null,
      "outputs": []
    },
    {
      "cell_type": "code",
      "source": [
        "submit_df = pd.read_csv('./drive/MyDrive/DeepLearning/SIGNATE/Reduction_of_default_risk/submit2.csv')\n",
        "print(len(submit_df))"
      ],
      "metadata": {
        "id": "Up1agWeKKwHd"
      },
      "execution_count": null,
      "outputs": []
    },
    {
      "cell_type": "code",
      "source": [
        "if len(test_df) > len(submit_df):\n",
        "    test_df.drop(test_df.index[-1], inplace=True)\n",
        "\n",
        "print(len(test_df))"
      ],
      "metadata": {
        "id": "dNyLtfD3KzoU"
      },
      "execution_count": null,
      "outputs": []
    },
    {
      "cell_type": "code",
      "source": [
        "test = test_df[['term', 'interest_rate', 'grade', 'purpose', 'credit_score', 'application_type']]\n",
        "test_dum = pd.get_dummies(test)\n",
        "print(test_dum.head())"
      ],
      "metadata": {
        "id": "UKuKsTS3Gxt5"
      },
      "execution_count": null,
      "outputs": []
    },
    {
      "cell_type": "code",
      "source": [
        "test_pred = model3.predict(test_dum)\n",
        "submit_df.iloc[:, 1] = test_pred\n",
        "print(test_pred)\n",
        "print(submit_df.head())"
      ],
      "metadata": {
        "id": "ajdRa4GWHVAk"
      },
      "execution_count": null,
      "outputs": []
    },
    {
      "cell_type": "code",
      "source": [
        "submit_df.to_csv('./drive/MyDrive/DeepLearning/SIGNATE/Reduction_of_default_risk/submit2.csv', index=False)"
      ],
      "metadata": {
        "id": "O5AVEJgBMOAR"
      },
      "execution_count": null,
      "outputs": []
    },
    {
      "cell_type": "code",
      "source": [],
      "metadata": {
        "id": "vLShLaszM85G"
      },
      "execution_count": null,
      "outputs": []
    }
  ]
}