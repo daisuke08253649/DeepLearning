{
  "nbformat": 4,
  "nbformat_minor": 0,
  "metadata": {
    "colab": {
      "provenance": [],
      "mount_file_id": "1zAIPXLdGVPvDNpPOT1tSOGPFkZO2wlDs",
      "authorship_tag": "ABX9TyPPNnMd+f28sxX2xmNnCSD8",
      "include_colab_link": true
    },
    "kernelspec": {
      "name": "python3",
      "display_name": "Python 3"
    },
    "language_info": {
      "name": "python"
    },
    "accelerator": "GPU",
    "gpuClass": "standard"
  },
  "cells": [
    {
      "cell_type": "markdown",
      "metadata": {
        "id": "view-in-github",
        "colab_type": "text"
      },
      "source": [
        "<a href=\"https://colab.research.google.com/github/daisuke14012719/DeepLearning/blob/main/fruit_classification.ipynb\" target=\"_parent\"><img src=\"https://colab.research.google.com/assets/colab-badge.svg\" alt=\"Open In Colab\"/></a>"
      ]
    },
    {
      "cell_type": "code",
      "source": [
        "import os\n",
        "import torch\n",
        "import random\n",
        "from PIL import Image\n",
        "import matplotlib.pyplot as plt\n",
        "from torch.utils.data import Dataset, DataLoader\n",
        "from torchvision import datasets, transforms\n",
        "#import torchvision.transforms as transforms\n",
        "import torchvision\n",
        "import torch.nn as nn\n",
        "import torch.nn.functional as F\n",
        "from torchsummary import summary\n",
        "import torch.optim as optim\n",
        "from torch.autograd import Variable\n",
        "%matplotlib inline\n",
        "\n",
        "device = 'cuda:0'"
      ],
      "metadata": {
        "id": "4w5rekYTAVUo"
      },
      "execution_count": null,
      "outputs": []
    },
    {
      "cell_type": "code",
      "source": [
        "class FruitDataset(Dataset):\n",
        "    def __init__(self, directory, transform):\n",
        "        self.directory = directory\n",
        "        self.image_and_label = self.image()\n",
        "        self.transform = transform\n",
        "\n",
        "    def image(self):\n",
        "        image_and_label = []\n",
        "        for folder in os.listdir(self.directory):\n",
        "            folder_path = os.path.join(self.directory, folder)\n",
        "\n",
        "            if os.path.isdir(folder_path):\n",
        "                for file in os.listdir(folder_path):\n",
        "                    file_path = os.path.join(folder_path, file)\n",
        "\n",
        "                    if os.path.isfile(file_path) and file.lower().endswith(('.jpg', '.jpeg', '.png', '.bmp', '.tiff')):\n",
        "                        image_and_label.append((file_path, folder))\n",
        "        \n",
        "        return image_and_label\n",
        "\n",
        "    \n",
        "    def __len__(self):\n",
        "        return len(self.image_and_label)\n",
        "\n",
        "    def __getitem__(self, index):\n",
        "        images, labels = self.image_and_label[index]\n",
        "        image = Image.open(images)\n",
        "        dir_names = [d.name for d in os.scandir(self.directory)]\n",
        "        dir_names.sort()\n",
        "        dir_to_index = {dir_name: i for i, dir_name in enumerate(dir_names)}\n",
        "        label = dir_to_index[labels]\n",
        "        label_tensor = torch.tensor(label)\n",
        "        \n",
        "        if self.transform:\n",
        "            image = self.transform(image)\n",
        "\n",
        "        return image, label_tensor\n"
      ],
      "metadata": {
        "id": "3O8m87vf_KYt"
      },
      "execution_count": null,
      "outputs": []
    },
    {
      "cell_type": "code",
      "source": [
        "#{'apple': 0, 'avocado': 1, 'banana': 2, 'cherry': 3, 'kiwifruit': 4, 'mango': 5, 'orange': 6, 'pineapple': 7, 'strawberry': 8, 'watermelon': 9}\n",
        "\n",
        "transform = transforms.Compose([transforms.CenterCrop(128), transforms.Grayscale(1), transforms.ToTensor()])\n",
        "\n",
        "train_directory = './drive/MyDrive/DeepLearning/fruit/train'\n",
        "test_directory = './drive/MyDrive/DeepLearning/fruit/test'\n",
        "\n",
        "train_dataset = FruitDataset(train_directory, transform)\n",
        "test_dataset = FruitDataset(test_directory, transform)\n",
        "\n",
        "print(train_dataset[0])\n",
        "print(len(train_dataset))\n",
        "\n",
        "print(test_dataset[0])\n",
        "print(len(test_dataset))"
      ],
      "metadata": {
        "id": "bgW5jiuqZLgf"
      },
      "execution_count": null,
      "outputs": []
    },
    {
      "cell_type": "code",
      "source": [
        "#損失関数\n",
        "criterion = nn.CrossEntropyLoss().to(device)\n",
        "\n",
        "#データローダー\n",
        "train_dataloader = DataLoader(train_dataset, batch_size=500, shuffle=True)\n",
        "test_dataloader = DataLoader(test_dataset, batch_size=200, shuffle=True)\n",
        "\n",
        "print(len(train_dataloader))\n",
        "print(len(test_dataloader))"
      ],
      "metadata": {
        "id": "KcI-5JCqGXO-"
      },
      "execution_count": null,
      "outputs": []
    },
    {
      "cell_type": "code",
      "source": [
        "class FruitNet(nn.Module):\n",
        "    def __init__(self):\n",
        "        super(FruitNet, self).__init__()\n",
        "        self.cnn = nn.Sequential(\n",
        "            nn.Conv2d(1, 16, 4, 2, 1),\n",
        "            nn.BatchNorm2d(16),\n",
        "            nn.ReLU(),\n",
        "            nn.MaxPool2d(2, 2),\n",
        "\n",
        "            nn.Conv2d(16, 32, 4, 2, 1),\n",
        "            nn.BatchNorm2d(32),\n",
        "            nn.ReLU(),\n",
        "\n",
        "            nn.Conv2d(32, 64, 4, 2, 1),\n",
        "            #nn.BatchNorm2d(64),\n",
        "            nn.ReLU(),\n",
        "\n",
        "            nn.Conv2d(64, 128, 3, 1, 1),\n",
        "            #nn.BatchNorm2d(128),\n",
        "            nn.ReLU(),\n",
        "\n",
        "            nn.Conv2d(128, 256, 3, 1, 1),\n",
        "            #nn.BatchNorm2d(256),\n",
        "            nn.ReLU()\n",
        "        )\n",
        "\n",
        "        self.lin = nn.Sequential(\n",
        "            nn.Linear(8*8*256, 512),\n",
        "            nn.ReLU(),\n",
        "            nn.Linear(512, 512),\n",
        "            nn.ReLU(),\n",
        "            nn.Linear(512, 512),\n",
        "            nn.ReLU(),\n",
        "            nn.Linear(512, 512),\n",
        "            nn.ReLU(),\n",
        "            nn.Linear(512, 10)           \n",
        "        )\n",
        "        \n",
        "    \n",
        "    def forward(self, x):\n",
        "        x = self.cnn(x)\n",
        "        x = x.view(-1, 8*8*256)\n",
        "        x = self.lin(x)\n",
        "        \n",
        "        return x"
      ],
      "metadata": {
        "id": "WzY1xopANwQ1"
      },
      "execution_count": null,
      "outputs": []
    },
    {
      "cell_type": "code",
      "source": [
        "net = FruitNet().to(device)\n",
        "print(net)\n",
        "print(summary(net, (1, 128, 128)))"
      ],
      "metadata": {
        "id": "9lvQCH16vV_M"
      },
      "execution_count": null,
      "outputs": []
    },
    {
      "cell_type": "code",
      "source": [
        "loss_list = []\n",
        "test_loss_list = []\n",
        "acc_list = []\n",
        "base_epoch = 0\n",
        "\n",
        "optimizer = optim.Adam(params=net.parameters(), lr=0.001)"
      ],
      "metadata": {
        "id": "AA78Zi6bxLFs"
      },
      "execution_count": null,
      "outputs": []
    },
    {
      "cell_type": "code",
      "source": [
        "for epoch in range(35):\n",
        "    net.train()\n",
        "    total_loss = 0\n",
        "    for data in train_dataloader:\n",
        "        inputs, labels = data\n",
        "        optimizer.zero_grad()\n",
        "        outputs = net(inputs.to(device))\n",
        "        loss = criterion(outputs, labels.to(device))\n",
        "        loss.backward()\n",
        "        optimizer.step()\n",
        "        total_loss += loss.item()\n",
        "    loss_list.append(total_loss/len(train_dataset))\n",
        "\n",
        "    correct = 0\n",
        "    total = 0\n",
        "    total_test_loss = 0\n",
        "    net.eval()\n",
        "    for data in test_dataloader:\n",
        "        inputs, labels = data\n",
        "        outputs = net(inputs.to(device))\n",
        "        test_loss = criterion(outputs, labels.to(device))\n",
        "        total_test_loss += test_loss.item()\n",
        "        _, predicted = torch.max(outputs.data, 1)\n",
        "        total += labels.size(0)\n",
        "        correct += (predicted == labels.to(device)).sum()\n",
        "    \n",
        "    test_loss_list.append(total_test_loss/total)\n",
        "    acc_list.append(float(correct)/total)\n",
        "\n",
        "\n",
        "    print('{}epoch : train_loss:{}, test_loss:{}, test_acc:{}'.format(\n",
        "        base_epoch + epoch + 1,\n",
        "        total_loss/len(train_dataset),\n",
        "        total_test_loss/len(test_dataset),\n",
        "        float(correct)/total\n",
        "    ))\n",
        "\n",
        "print('end of study')\n",
        "base_epoch += epoch + 1"
      ],
      "metadata": {
        "id": "Jh4MdE-ERcv-"
      },
      "execution_count": null,
      "outputs": []
    },
    {
      "cell_type": "code",
      "source": [
        "plt.figure()\n",
        "plt.plot(range(1, len(loss_list)+1), loss_list, label='train_loss')\n",
        "plt.plot(range(1, len(test_loss_list)+1), test_loss_list, label='test_loss')\n",
        "plt.xlabel('epoch')\n",
        "plt.legend()\n",
        "plt.show()"
      ],
      "metadata": {
        "id": "PKOblQQ_Ps_w"
      },
      "execution_count": null,
      "outputs": []
    },
    {
      "cell_type": "code",
      "source": [
        "test_iter = iter(test_dataloader)\n",
        "true_list = []\n",
        "false_list = []\n",
        "inputs, labels = next(test_iter)\n",
        "outputs = net(Variable(inputs.cuda()))\n",
        "_, predicted = torch.max(outputs.data, 1)\n",
        "\n",
        "for idx in range(len(labels)):\n",
        "    list = [inputs[idx], labels[idx], predicted[idx]]\n",
        "    if int(labels[idx]) == int(predicted[idx]):\n",
        "        true_list.append(list)\n",
        "    else:\n",
        "        false_list.append(list)\n",
        "\n",
        "print('正解データ')\n",
        "for idx, tlst in enumerate(true_list[:5]):\n",
        "    plt.figure(idx+1)   \n",
        "    plt.imshow(tlst[0].numpy().reshape(128, 128))\n",
        "    plt.title('correct: {}, predict: {}'.format(tlst[1], tlst[2]))\n",
        "    \n",
        "\n",
        "print('不正解データ')\n",
        "for idx, flst in enumerate(false_list[:5]):\n",
        "    plt.figure(idx+1)   \n",
        "    plt.imshow(flst[0].numpy().reshape(128, 128))\n",
        "    plt.title('correct: {}, predict: {}'.format(flst[1], flst[2]))"
      ],
      "metadata": {
        "id": "aBV99wNozpYS"
      },
      "execution_count": null,
      "outputs": []
    }
  ]
}