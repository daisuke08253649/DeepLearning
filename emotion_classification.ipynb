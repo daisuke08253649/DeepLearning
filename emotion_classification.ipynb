{
  "nbformat": 4,
  "nbformat_minor": 0,
  "metadata": {
    "colab": {
      "provenance": [],
      "machine_shape": "hm",
      "gpuType": "V100",
      "mount_file_id": "1fIYT-2Lq4K2VYpOvOEH1U8KhFoNsrQG2",
      "authorship_tag": "ABX9TyPO2qkXfyQDXNRPRbygenDh",
      "include_colab_link": true
    },
    "kernelspec": {
      "name": "python3",
      "display_name": "Python 3"
    },
    "language_info": {
      "name": "python"
    },
    "accelerator": "GPU"
  },
  "cells": [
    {
      "cell_type": "markdown",
      "metadata": {
        "id": "view-in-github",
        "colab_type": "text"
      },
      "source": [
        "<a href=\"https://colab.research.google.com/github/daisuke08253649/DeepLearning/blob/main/emotion_classification.ipynb\" target=\"_parent\"><img src=\"https://colab.research.google.com/assets/colab-badge.svg\" alt=\"Open In Colab\"/></a>"
      ]
    },
    {
      "cell_type": "code",
      "execution_count": null,
      "metadata": {
        "id": "D91LtombEog0"
      },
      "outputs": [],
      "source": [
        "import pandas as pd\n",
        "import numpy as np\n",
        "from sklearn.model_selection import train_test_split\n",
        "\n",
        "df = pd.read_csv('./drive/MyDrive/DeepLearning/SIGNATE/emotion_classification/train_master.tsv', sep='\\t')\n",
        "\n",
        "train_datas = df[['id', 'expression']]\n",
        "\n",
        "emotions = {'neutral' : 0, 'happy' : 1, 'sad' : 2, 'angry' : 3}\n",
        "\n",
        "train_datas['expression'] = train_datas['expression'].replace(emotions)\n",
        "\n",
        "print(train_datas)\n",
        "\n",
        "num_classes = len(emotions)\n",
        "\n",
        "image_name_list = train_datas['id'].values\n",
        "label_list = train_datas['expression'].values\n",
        "\n",
        "\n",
        "image_label = np.eye(num_classes)[label_list]\n",
        "\n",
        "print(image_label)\n",
        "\n",
        "\n",
        "x_train, x_val, y_train, y_val = train_test_split(image_name_list, image_label, test_size=0.25, stratify=image_label, random_state=42)\n",
        "\n",
        "print('学習データ数',len(x_train))\n",
        "print('検証データ数',len(x_val))\n",
        "print('学習データラベル数')\n",
        "print(np.unique(y_train.argmax(axis=1), return_counts=True))\n",
        "print('検証データラベル数')\n",
        "print(np.unique(y_val.argmax(axis=1), return_counts=True))"
      ]
    },
    {
      "cell_type": "code",
      "source": [
        "import os\n",
        "from PIL import Image\n",
        "import matplotlib.pyplot as plt\n",
        "\n",
        "train_image_dir = './drive/MyDrive/DeepLearning/SIGNATE/emotion_classification/train/train/'\n",
        "train_image_list = os.listdir(train_image_dir)\n",
        "\n",
        "image_list = []\n",
        "\n",
        "for image_path in train_image_list:\n",
        "    image = Image.open(train_image_dir + image_path)\n",
        "    image = np.array(image)\n",
        "    image_list.append(image)\n",
        "\n",
        "print(len(image_list))\n",
        "plt.imshow(image)\n",
        "plt.show()"
      ],
      "metadata": {
        "id": "bwN-7vPr8hQx"
      },
      "execution_count": null,
      "outputs": []
    },
    {
      "cell_type": "code",
      "source": [
        "from torchvision import transforms\n",
        "from torch.utils.data import Dataset\n",
        "from torch.utils.data import DataLoader\n",
        "\n",
        "\n",
        "transform = {\n",
        "    'train': transforms.Compose([\n",
        "        transforms.Resize((120, 120)),\n",
        "        transforms.RandomHorizontalFlip(),\n",
        "        transforms.ToTensor()\n",
        "    ]),\n",
        "\n",
        "    'val': transforms.Compose([\n",
        "        transforms.Resize((120, 120)),\n",
        "        transforms.RandomHorizontalFlip(),\n",
        "        transforms.ToTensor()\n",
        "    ])\n",
        "}\n",
        "\n",
        "#image_transformed = transform['train'](image)\n",
        "\n",
        "class EmotionDataset(Dataset):\n",
        "    def __init__(self, image_name_list, label_list, phase):\n",
        "        self.image_name_list = image_name_list\n",
        "        self.label_list = label_list\n",
        "        self.phase = phase\n",
        "        self.transform = transform\n",
        "\n",
        "    def __len__(self):\n",
        "        return len(self.image_name_list)\n",
        "\n",
        "    def __getitem__(self, index):\n",
        "        image_name = self.image_name_list[index]\n",
        "        image = Image.open(train_image_dir + image_name)\n",
        "\n",
        "        image = self.transform[self.phase](image)\n",
        "        label = self.label_list[index]\n",
        "\n",
        "        return image, label\n",
        "\n",
        "train_dataset = EmotionDataset(x_train, y_train, phase='train')\n",
        "val_dataset = EmotionDataset(x_val, y_train, phase='val')\n",
        "\n",
        "print(val_dataset.__getitem__(0)[0].shape)\n",
        "\n",
        "batch_size = 40\n",
        "train_dataloader = DataLoader(train_dataset, batch_size, shuffle=True)\n",
        "val_dataloader = DataLoader(val_dataset, batch_size, shuffle=False)\n",
        "\n",
        "dataloaders_dict = {\n",
        "    'train': train_dataloader,\n",
        "    'val': val_dataloader\n",
        "}"
      ],
      "metadata": {
        "id": "fiV9jZKkA0xf"
      },
      "execution_count": null,
      "outputs": []
    },
    {
      "cell_type": "code",
      "source": [
        "from torch import nn, optim\n",
        "import torch\n",
        "\n",
        "net = torch.hub.load('pytorch/vision:v0.10.0', 'resnet18', pretrained=True)\n",
        "\n",
        "net.conv1 = nn.Conv2d(1, 64, kernel_size=4, stride=2, padding=1, bias=False)\n",
        "net.fc = nn.Linear(in_features=512, out_features=4, bias=True)\n",
        "\n",
        "print(net)"
      ],
      "metadata": {
        "id": "mJpmhz8Y_n94"
      },
      "execution_count": null,
      "outputs": []
    },
    {
      "cell_type": "code",
      "source": [
        "def train_model(net, epochs, criterion, optimizer):\n",
        "    device = 'cuda' if torch.cuda.is_available() else 'cpu'\n",
        "    net.to(device)\n",
        "\n",
        "    best_iou = 0.0\n",
        "\n",
        "    for epoch in range(epochs):\n",
        "        print(f'Epoch: {epoch+1} / {epochs}')\n",
        "        print('--------------')\n",
        "\n",
        "        for phase in ['train', 'val']:\n",
        "            if phase == 'train':\n",
        "                net.train()\n",
        "            else:\n",
        "                net.eval()\n",
        "\n",
        "            epoch_loss = 0.0\n",
        "            pred_list = []\n",
        "            true_list = []\n",
        "\n",
        "            for images, labels in dataloaders_dict[phase]:\n",
        "                images = images.float().to(device)\n",
        "                labels = labels.to(device)\n",
        "\n",
        "                optimizer.zero_grad()\n",
        "\n",
        "                with torch.set_grad_enabled(phase=='train'):\n",
        "                    outputs = net(images)\n",
        "                    loss = criterion(outputs, labels)\n",
        "                    _, preds = torch.max(outputs, 1)\n",
        "\n",
        "                    if phase == 'train':\n",
        "                        loss.backward()\n",
        "                        optimizer.step()\n",
        "\n",
        "                    epoch_loss += loss.item() * images.size(0)\n",
        "\n",
        "                    pred = preds.to('cpu').numpy()\n",
        "                    pred_list.extend(pred)\n",
        "\n",
        "                    labels = labels.to('cpu').numpy()\n",
        "                    true_list.extend(labels)\n",
        "\n",
        "            epoch_loss = epoch_loss / len(dataloaders_dict[phase].dataset)\n",
        "\n",
        "            print(f'{phase} Loss: {epoch_loss:.4f}')\n",
        "\n",
        "        print(pred_list)\n",
        "        print(true_list)"
      ],
      "metadata": {
        "id": "p3NkFqDNBBnA"
      },
      "execution_count": null,
      "outputs": []
    },
    {
      "cell_type": "code",
      "source": [
        "criterion = nn.CrossEntropyLoss()\n",
        "optimizer = optim.Adam(net.parameters())\n",
        "\n",
        "epochs = 100\n",
        "\n",
        "train_model(net, epochs, criterion, optimizer)\n",
        "#torch.save(net, 'model.pth')"
      ],
      "metadata": {
        "id": "m8P2wOyAc10Z"
      },
      "execution_count": null,
      "outputs": []
    },
    {
      "cell_type": "code",
      "source": [
        "test_image_dir = './drive/MyDrive/DeepLearning/SIGNATE/emotion_classification/test/test/'\n",
        "test_image_list = os.listdir(test_image_dir)\n",
        "\n",
        "for test_image_name in test_image_list:\n",
        "    test_image = Image.open(test_image_dir + test_image_name)\n",
        "\n",
        "plt.imshow(test_image)\n",
        "plt.show()"
      ],
      "metadata": {
        "id": "xxWolAdP3SkG"
      },
      "execution_count": null,
      "outputs": []
    },
    {
      "cell_type": "code",
      "source": [
        "test_transform = {\n",
        "    'test': transforms.Compose([\n",
        "        transforms.Resize((120, 120)),\n",
        "        transforms.ToTensor()\n",
        "    ])\n",
        "}\n",
        "\n",
        "class Test_EmotionDataset(Dataset):\n",
        "    def __init__(self, test_image_dir, test_image_list, test_label_df, phase):\n",
        "        self.test_image_dir = test_image_dir\n",
        "        self.test_image_list = test_image_list\n",
        "        self.test_label_df = test_label_df\n",
        "        self.phase = phase\n",
        "        self.test_transform = test_transform\n",
        "\n",
        "    def __len__(self):\n",
        "        return len(self.test_image_list)\n",
        "\n",
        "    def __getitem__(self, index):\n",
        "        test_image = Image.open(self.test_image_dir + self.test_image_list[index])\n",
        "        image = self.test_transform[self.phase](test_image)\n",
        "\n",
        "        label = self.test_label_df[index]\n",
        "\n",
        "        return image, label\n",
        "\n",
        "test_dataset = Test_EmotionDataset(test_image_dir, test_image_list, test_label_df, phase='test')\n",
        "\n",
        "batch_size = 40\n",
        "test_dataloader = DataLoader(test_dataset, batch_size, shuffle=False)"
      ],
      "metadata": {
        "id": "LQLoz3vfJ1zU"
      },
      "execution_count": null,
      "outputs": []
    },
    {
      "cell_type": "code",
      "source": [
        "def test_model(net, test_dataloader):\n",
        "    device = torch.device(\"cuda:0\" if torch.cuda.is_available() else \"cpu\")\n",
        "    model = torch.load(net)\n",
        "    model.to(device)\n",
        "\n",
        "    pred_list = []\n",
        "\n",
        "    model.eval()\n",
        "    with torch.no_grad():\n",
        "        for image, label in test_dataloader:\n",
        "            image = image.to(device)\n",
        "            outputs = model(image)\n",
        "            _, predict = torch.max(outputs, 1)\n",
        "            predict = predict.to('cpu').numpy()\n",
        "            pred_list.extend(predict)\n",
        "\n",
        "    return pred_list"
      ],
      "metadata": {
        "id": "BDwjGZLC4fRq"
      },
      "execution_count": null,
      "outputs": []
    },
    {
      "cell_type": "code",
      "source": [
        "net = './drive/MyDrive/DeepLearning/SIGNATE/emotion_classification/model.pth'\n",
        "\n",
        "predict_list = test_model(net, test_dataloader)\n",
        "print(predict_list)"
      ],
      "metadata": {
        "id": "P1pTxfnuVN6e"
      },
      "execution_count": null,
      "outputs": []
    },
    {
      "cell_type": "code",
      "source": [
        "test_df = pd.read_csv('./drive/MyDrive/DeepLearning/SIGNATE/emotion_classification/sample_submit (4).csv', header=None)\n",
        "\n",
        "emotions = {0 : 'neutral', 1 : 'happy', 2 : 'sad', 3 : 'angry'}\n",
        "\n",
        "test_image_df = test_df.iloc[:, 0]\n",
        "test_label_df = test_df.iloc[:, 1]\n",
        "\n",
        "for i in range(len(test_label_df)):\n",
        "    test_label_df[i] = predict_list[i]\n",
        "    pred_label_df = test_label_df.replace(emotions)\n",
        "\n",
        "\n",
        "print(test_image_df)\n",
        "print(pred_label_df)\n",
        "\n",
        "test_df.iloc[:, 1] = pred_label_df\n",
        "test_df.to_csv('./drive/MyDrive/DeepLearning/SIGNATE/emotion_classification/submit.csv', header=None, index=None)"
      ],
      "metadata": {
        "id": "b-255Q8NVsX_"
      },
      "execution_count": null,
      "outputs": []
    },
    {
      "cell_type": "code",
      "source": [],
      "metadata": {
        "id": "KatwEI8VvVuM"
      },
      "execution_count": null,
      "outputs": []
    }
  ]
}